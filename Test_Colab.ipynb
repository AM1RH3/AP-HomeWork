{
  "nbformat": 4,
  "nbformat_minor": 0,
  "metadata": {
    "colab": {
      "provenance": [],
      "authorship_tag": "ABX9TyNBsozXulGmKYWjGW786q5K",
      "include_colab_link": true
    },
    "kernelspec": {
      "name": "python3",
      "display_name": "Python 3"
    },
    "language_info": {
      "name": "python"
    }
  },
  "cells": [
    {
      "cell_type": "markdown",
      "metadata": {
        "id": "view-in-github",
        "colab_type": "text"
      },
      "source": [
        "<a href=\"https://colab.research.google.com/github/AM1RH3/AP-HomeWork/blob/main/Test_Colab.ipynb\" target=\"_parent\"><img src=\"https://colab.research.google.com/assets/colab-badge.svg\" alt=\"Open In Colab\"/></a>"
      ]
    },
    {
      "cell_type": "markdown",
      "source": [],
      "metadata": {
        "id": "3oUW4Du2nBo2"
      }
    },
    {
      "cell_type": "markdown",
      "source": [
        "# Test Text\n",
        "## Test Text\n",
        "### Test Text\n",
        "Test Text\n",
        "\n",
        "```\n",
        "print(\"Hello World\");\n",
        "```\n",
        "\n",
        "\n",
        "[link text](https://)\n",
        "---\n",
        "```\n",
        "hi\n",
        "```\n",
        "⏰ ◀ ❌\n"
      ],
      "metadata": {
        "id": "zKquAU7lnEVt"
      }
    }
  ]
}